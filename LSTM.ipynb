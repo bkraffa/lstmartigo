{
 "cells": [
  {
   "cell_type": "code",
   "execution_count": 132,
   "metadata": {},
   "outputs": [],
   "source": [
    "import pandas as pd\n",
    "\n",
    "df_train = pd.read_csv('twitter_training.csv',sep=',',header=None)\n",
    "df_val = pd.read_csv('twitter_validation.csv',sep = ',', header=None)"
   ]
  },
  {
   "cell_type": "code",
   "execution_count": 133,
   "metadata": {},
   "outputs": [],
   "source": [
    "df = pd.concat([df_train.assign(ind=\"train\"), df_val.assign(ind=\"validation\")])"
   ]
  },
  {
   "cell_type": "code",
   "execution_count": 134,
   "metadata": {},
   "outputs": [],
   "source": [
    "df =df.iloc[:,-3:]\n",
    "df.columns = ['sentiment','text','ind']"
   ]
  },
  {
   "cell_type": "code",
   "execution_count": 135,
   "metadata": {},
   "outputs": [],
   "source": [
    "df = df.loc[(df['sentiment'] == 'Positive') | (df['sentiment'] == 'Negative')]"
   ]
  },
  {
   "cell_type": "code",
   "execution_count": 136,
   "metadata": {},
   "outputs": [
    {
     "data": {
      "text/plain": [
       "count        43917\n",
       "unique           2\n",
       "top       Negative\n",
       "freq         22808\n",
       "Name: sentiment, dtype: object"
      ]
     },
     "execution_count": 136,
     "metadata": {},
     "output_type": "execute_result"
    }
   ],
   "source": [
    "df.sentiment.describe()"
   ]
  },
  {
   "cell_type": "code",
   "execution_count": 137,
   "metadata": {},
   "outputs": [],
   "source": [
    "df.loc[df['sentiment'] == 'Positive','sentiment'] = 1\n",
    "df.loc[df['sentiment'] == 'Negative','sentiment'] = 0"
   ]
  },
  {
   "cell_type": "code",
   "execution_count": 138,
   "metadata": {},
   "outputs": [],
   "source": [
    "#pip install spacy\n",
    "#in terminal: python -m spacy download en_core_web_sm\n",
    "\n",
    "import spacy\n",
    "nlp = spacy.load('en_core_web_sm')\n",
    "import re"
   ]
  },
  {
   "cell_type": "code",
   "execution_count": 139,
   "metadata": {},
   "outputs": [],
   "source": [
    "df[\"text\"] = df[\"text\"].astype(str)\n",
    "df[\"text\"] = df['text'].apply(lambda x: \" \".join([y.lemma_ for y in nlp(x) if not y.is_stop]))\n",
    "df['text'] = df['text'].apply(lambda x: x.lower())\n",
    "df['text'] = df['text'].apply((lambda x: re.sub('[^\\w\\s]','',x)))"
   ]
  },
  {
   "cell_type": "code",
   "execution_count": 140,
   "metadata": {},
   "outputs": [],
   "source": [
    "from tensorflow.keras.preprocessing.text import Tokenizer\n",
    "from tensorflow.keras.preprocessing.sequence import pad_sequences\n",
    "\n",
    "max_features = 3000\n",
    "tokenizer = Tokenizer(num_words=max_features, split=' ')\n",
    "tokenizer.fit_on_texts(df['text'].values)"
   ]
  },
  {
   "cell_type": "code",
   "execution_count": 141,
   "metadata": {},
   "outputs": [],
   "source": [
    "df_train, df_val = df[df[\"ind\"].eq(\"train\")], df[df[\"ind\"].eq(\"validation\")]"
   ]
  },
  {
   "cell_type": "code",
   "execution_count": 142,
   "metadata": {},
   "outputs": [],
   "source": [
    "X_train = tokenizer.texts_to_sequences(df_train['text'].values)\n",
    "X_train = pad_sequences(X_train)"
   ]
  },
  {
   "cell_type": "code",
   "execution_count": 143,
   "metadata": {},
   "outputs": [
    {
     "data": {
      "text/plain": [
       "(43374, 161)"
      ]
     },
     "execution_count": 143,
     "metadata": {},
     "output_type": "execute_result"
    }
   ],
   "source": [
    "X_train.shape"
   ]
  },
  {
   "cell_type": "code",
   "execution_count": 144,
   "metadata": {},
   "outputs": [],
   "source": [
    "X_val = tokenizer.texts_to_sequences(df_val['text'].values)\n",
    "X_val = pad_sequences(X_val)"
   ]
  },
  {
   "cell_type": "code",
   "execution_count": 145,
   "metadata": {},
   "outputs": [
    {
     "data": {
      "text/plain": [
       "(543, 28)"
      ]
     },
     "execution_count": 145,
     "metadata": {},
     "output_type": "execute_result"
    }
   ],
   "source": [
    "X_val.shape"
   ]
  },
  {
   "cell_type": "code",
   "execution_count": 146,
   "metadata": {},
   "outputs": [
    {
     "data": {
      "text/plain": [
       "(543, 161)"
      ]
     },
     "execution_count": 146,
     "metadata": {},
     "output_type": "execute_result"
    }
   ],
   "source": [
    "import numpy as np\n",
    "X_val = np.lib.pad(X_val, ((0,0),(X_train.shape[1] - X_val.shape[1],0)), 'constant', constant_values=(0))\n",
    "X_val.shape"
   ]
  },
  {
   "cell_type": "code",
   "execution_count": 147,
   "metadata": {},
   "outputs": [
    {
     "name": "stderr",
     "output_type": "stream",
     "text": [
      "c:\\Users\\bruno\\anaconda3\\lib\\site-packages\\pandas\\core\\algorithms.py:798: FutureWarning: In a future version, the Index constructor will not infer numeric dtypes when passed object-dtype sequences (matching Series behavior)\n",
      "  uniques = Index(uniques)\n"
     ]
    }
   ],
   "source": [
    "Y_train = np.array(pd.get_dummies((df_train['sentiment']).values))\n",
    "Y_val = np.array(pd.get_dummies((df_val['sentiment']).values))"
   ]
  },
  {
   "cell_type": "code",
   "execution_count": 148,
   "metadata": {},
   "outputs": [],
   "source": [
    "from tensorflow.keras.models import Sequential\n",
    "from tensorflow.keras.layers import Dense, Embedding, LSTM, SpatialDropout1D"
   ]
  },
  {
   "cell_type": "code",
   "execution_count": 149,
   "metadata": {},
   "outputs": [
    {
     "name": "stdout",
     "output_type": "stream",
     "text": [
      "Model: \"sequential_3\"\n",
      "_________________________________________________________________\n",
      " Layer (type)                Output Shape              Param #   \n",
      "=================================================================\n",
      " embedding_3 (Embedding)     (None, 161, 128)          384000    \n",
      "                                                                 \n",
      " spatial_dropout1d_3 (Spatia  (None, 161, 128)         0         \n",
      " lDropout1D)                                                     \n",
      "                                                                 \n",
      " lstm_3 (LSTM)               (None, 256)               394240    \n",
      "                                                                 \n",
      " dense_3 (Dense)             (None, 2)                 514       \n",
      "                                                                 \n",
      "=================================================================\n",
      "Total params: 778,754\n",
      "Trainable params: 778,754\n",
      "Non-trainable params: 0\n",
      "_________________________________________________________________\n",
      "None\n"
     ]
    }
   ],
   "source": [
    "embed_dim = 128\n",
    "lstm_out = 256\n",
    "max_features = 3000\n",
    "\n",
    "model = Sequential()\n",
    "model.add(Embedding(max_features, embed_dim,input_length = X_train.shape[1]))\n",
    "model.add(SpatialDropout1D(0.15))\n",
    "model.add(LSTM(lstm_out, dropout=0.15, recurrent_dropout=0.15))\n",
    "model.add(Dense(2,activation='sigmoid'))\n",
    "model.compile(loss = 'categorical_crossentropy', optimizer='adam',metrics = ['accuracy'])\n",
    "print(model.summary())\n",
    "batch_size = 32"
   ]
  },
  {
   "cell_type": "code",
   "execution_count": 150,
   "metadata": {},
   "outputs": [
    {
     "name": "stdout",
     "output_type": "stream",
     "text": [
      "Epoch 1/10\n",
      "1356/1356 - 708s - loss: 0.5617 - accuracy: 0.7136 - 708s/epoch - 522ms/step\n",
      "Epoch 2/10\n",
      "1356/1356 - 646s - loss: 0.4120 - accuracy: 0.8133 - 646s/epoch - 476ms/step\n",
      "Epoch 3/10\n",
      "1356/1356 - 631s - loss: 0.3472 - accuracy: 0.8460 - 631s/epoch - 465ms/step\n",
      "Epoch 4/10\n",
      "1356/1356 - 636s - loss: 0.3010 - accuracy: 0.8679 - 636s/epoch - 469ms/step\n",
      "Epoch 5/10\n",
      "1356/1356 - 630s - loss: 0.3007 - accuracy: 0.8649 - 630s/epoch - 464ms/step\n",
      "Epoch 6/10\n",
      "1356/1356 - 658s - loss: 0.2442 - accuracy: 0.8936 - 658s/epoch - 486ms/step\n",
      "Epoch 7/10\n",
      "1356/1356 - 630s - loss: 0.2133 - accuracy: 0.9060 - 630s/epoch - 464ms/step\n",
      "Epoch 8/10\n",
      "1356/1356 - 621s - loss: 0.1837 - accuracy: 0.9197 - 621s/epoch - 458ms/step\n",
      "Epoch 9/10\n",
      "1356/1356 - 2603s - loss: 0.1607 - accuracy: 0.9283 - 2603s/epoch - 2s/step\n",
      "Epoch 10/10\n",
      "1356/1356 - 621s - loss: 0.1406 - accuracy: 0.9363 - 621s/epoch - 458ms/step\n"
     ]
    },
    {
     "data": {
      "text/plain": [
       "<keras.callbacks.History at 0x287f4038a90>"
      ]
     },
     "execution_count": 150,
     "metadata": {},
     "output_type": "execute_result"
    }
   ],
   "source": [
    "model.fit(X_train, Y_train, epochs = 10, batch_size=batch_size, verbose = 2, shuffle=False)"
   ]
  },
  {
   "cell_type": "code",
   "execution_count": 151,
   "metadata": {},
   "outputs": [],
   "source": [
    "from sklearn.metrics import accuracy_score, f1_score, classification_report, confusion_matrix, roc_curve, auc"
   ]
  },
  {
   "cell_type": "code",
   "execution_count": 154,
   "metadata": {},
   "outputs": [],
   "source": [
    "import matplotlib.pyplot as plt\n",
    "import seaborn as sns\n",
    "\n",
    "def evaluate_lstm(model, X_test,Y_test):\n",
    "\n",
    "    pos_cnt, neg_cnt, pos_correct, neg_correct = 0, 0, 0, 0\n",
    "    resultados = []\n",
    "\n",
    "    for x in range(len(X_test)):\n",
    "    \n",
    "        result = model.predict(X_test[x].reshape(1,X_test.shape[1]),batch_size=1,verbose = 3)[0]\n",
    "    \n",
    "        if np.argmax(result) == np.argmax(X_test[x]):\n",
    "            if np.argmax(X_test[x]) == 0:\n",
    "                neg_correct += 1\n",
    "            else:\n",
    "                pos_correct += 1\n",
    "        \n",
    "        if np.argmax(X_test[x]) == 0:\n",
    "            neg_cnt += 1\n",
    "        else:\n",
    "            pos_cnt += 1\n",
    "        \n",
    "        resultados.append(np.argmax(result))\n",
    "    \n",
    "    Y_test_argmax = np.argmax(Y_test,axis=1)\n",
    "    Y_test_argmax  = Y_test_argmax.reshape(-1,1)\n",
    "    resultados = np.asarray(resultados)\n",
    "    resultados  = resultados.reshape(-1,1)\n",
    "\n",
    "    conf_matrix = confusion_matrix(Y_test_argmax, resultados)\n",
    "    fig = plt.figure(figsize=(6, 6))\n",
    "    sns.heatmap(conf_matrix, annot=True, fmt=\"d\", cmap = 'GnBu');\n",
    "    plt.title(\"Confusion Matrix\")\n",
    "    plt.ylabel('Correct Class')\n",
    "    plt.xlabel('Predicted class')\n",
    " \n",
    "    return accuracy_score(Y_test_argmax, resultados), f1_score(Y_test_argmax, resultados, pos_label=1), fig"
   ]
  },
  {
   "cell_type": "code",
   "execution_count": 155,
   "metadata": {},
   "outputs": [
    {
     "name": "stdout",
     "output_type": "stream",
     "text": [
      "Accuracy:0.937\n",
      "F1 Score: 0.940\n"
     ]
    },
    {
     "data": {
      "image/png": "[encoded data removed]",
      "text/plain": [
       "<Figure size 432x432 with 2 Axes>"
      ]
     },
     "metadata": {
      "needs_background": "light"
     },
     "output_type": "display_data"
    }
   ],
   "source": [
    "accuracy,f1, fig = evaluate_lstm(model,X_val,Y_val)\n",
    "print(f'Accuracy:{accuracy:.3f}')\n",
    "print(f'F1 Score: {f1:.3f}')"
   ]
  }
 ],
 "metadata": {
  "kernelspec": {
   "display_name": "Python 3.8.8 ('base')",
   "language": "python",
   "name": "python3"
  },
  "language_info": {
   "codemirror_mode": {
    "name": "ipython",
    "version": 3
   },
   "file_extension": ".py",
   "mimetype": "text/x-python",
   "name": "python",
   "nbconvert_exporter": "python",
   "pygments_lexer": "ipython3",
   "version": "3.8.8"
  },
  "orig_nbformat": 4,
  "vscode": {
   "interpreter": {
    "hash": "86ced299d573a58fc1d464bd2f917835a691b9d9cefee14c59fce60008360703"
   }
  }
 },
 "nbformat": 4,
 "nbformat_minor": 2
}
